{
 "cells": [
  {
   "cell_type": "code",
   "execution_count": 0,
   "metadata": {
    "colab": {},
    "colab_type": "code",
    "id": "YmU2oVbNYd1z"
   },
   "outputs": [],
   "source": [
    "%matplotlib inline\n",
    "from PIL import ImageFile\n",
    "ImageFile.LOAD_TRUNCATED_IMAGES = True\n",
    "import matplotlib.pyplot as plt\n",
    "import matplotlib.image as mpimg\n",
    "import numpy as np\n",
    "import os\n",
    "from tensorflow.keras.applications import MobileNet, DenseNet121, MobileNetV2\n",
    "from tensorflow.keras.preprocessing.image import ImageDataGenerator\n",
    "from tensorflow.keras.models import Sequential\n",
    "from tensorflow.keras.optimizers import RMSprop, Adagrad, Adam, SGD\n",
    "from tensorflow.keras.layers import Conv2D, MaxPooling2D\n",
    "from tensorflow.keras.layers import Activation, Dropout, Flatten, Dense\n",
    "from tensorflow.keras.callbacks import CSVLogger\n",
    "from skimage.io import imread\n",
    "from skimage.transform import resize\n",
    "\n",
    "\n",
    "GOOGLE_COLAB = True\n",
    "TRAINING_LOGS_FILE = \"training_logs.csv\"\n",
    "MODEL_SUMMARY_FILE = \"model_summary.txt\"\n",
    "MODEL_FILE = \"model.h5\"\n",
    "\n",
    "if GOOGLE_COLAB:\n",
    "    !pip install livelossplot\n",
    "from livelossplot import PlotLossesKeras\n",
    "\n",
    "\n",
    "training_data_dir = \"/content/training_set\" # 8000\n",
    "validation_data_dir = \"/content/validation_set\" # 2000\n",
    "test_data_dir = \"/content/test_set\" # 7\n",
    "\n",
    "\n",
    "# Globalparams\n",
    "IMAGE_SIZE = 224\n",
    "IMAGE_WIDTH, IMAGE_HEIGHT = IMAGE_SIZE, IMAGE_SIZE\n",
    "EPOCHS = 10\n",
    "BATCH_SIZE = int(EPOCHS//2)\n",
    "\n",
    "input_shape = (IMAGE_WIDTH, IMAGE_HEIGHT, 3)"
   ]
  },
  {
   "cell_type": "code",
   "execution_count": 0,
   "metadata": {
    "colab": {},
    "colab_type": "code",
    "id": "c8_WdRpkp954"
   },
   "outputs": [],
   "source": [
    "model = Sequential()\n",
    "main_model = MobileNet(weights='imagenet', include_top=False, input_shape=input_shape)\n",
    "model.add(main_model)\n",
    "model.add(Flatten())\n",
    "model.add(Dense(512, activation='relu'))\n",
    "model.add(Dropout(0.2))\n",
    "model.add(Dense(512, activation='relu'))\n",
    "model.add(Dropout(0.2))\n",
    "model.add(Dense(2, activation='sigmoid'))\n",
    "\n",
    "    \n",
    "model.compile(loss='binary_crossentropy',\n",
    "            optimizer=Adam(lr=0.0001, amsgrad=True),\n",
    "            metrics=['accuracy'])\n",
    "\n",
    "with open(MODEL_SUMMARY_FILE,\"w\") as fh:\n",
    "    model.summary(print_fn=lambda line: fh.write(line + \"\\n\"))"
   ]
  },
  {
   "cell_type": "code",
   "execution_count": 0,
   "metadata": {
    "colab": {},
    "colab_type": "code",
    "id": "K-WhLQU2Ymfq"
   },
   "outputs": [],
   "source": [
    "training_data_generator = ImageDataGenerator(\n",
    "    rotation_range=40,\n",
    "    width_shift_range=0.2,\n",
    "    height_shift_range=0.2,\n",
    "    rescale=1/255,\n",
    "    shear_range=0.2,\n",
    "    zoom_range=0.2,\n",
    "    horizontal_flip=True,\n",
    "    fill_mode='nearest',\n",
    "    validation_split=0.2)\n",
    "\n",
    "validation_data_generator = ImageDataGenerator(\n",
    "    rescale=1./255)\n",
    "\n",
    "\n",
    "training_generator = training_data_generator.flow_from_directory(\n",
    "    training_data_dir,\n",
    "    target_size=(IMAGE_WIDTH, IMAGE_HEIGHT),\n",
    "    batch_size=BATCH_SIZE,\n",
    "    class_mode=\"categorical\")\n",
    "validation_generator = validation_data_generator.flow_from_directory(\n",
    "    validation_data_dir,\n",
    "    target_size=(IMAGE_WIDTH, IMAGE_HEIGHT),\n",
    "    batch_size=BATCH_SIZE,\n",
    "    class_mode=\"categorical\")"
   ]
  },
  {
   "cell_type": "code",
   "execution_count": 0,
   "metadata": {
    "colab": {},
    "colab_type": "code",
    "id": "o4HuxlLMYoqf"
   },
   "outputs": [],
   "source": [
    "\n",
    "model.fit_generator(\n",
    "    training_generator,\n",
    "    steps_per_epoch=len(training_generator.filenames)//BATCH_SIZE,\n",
    "    epochs=EPOCHS,\n",
    "    validation_data=validation_generator,\n",
    "    validation_steps=len(validation_generator.filenames)//BATCH_SIZE,\n",
    "    callbacks=[PlotLossesKeras(), CSVLogger(TRAINING_LOGS_FILE,\n",
    "                                            append=False,\n",
    "                                            separator=\";\")], \n",
    "    verbose=1)\n",
    "model.save(MODEL_FILE)"
   ]
  },
  {
   "cell_type": "code",
   "execution_count": 0,
   "metadata": {
    "colab": {},
    "colab_type": "code",
    "id": "Ov1n1HWAYsez"
   },
   "outputs": [],
   "source": [
    "class_labels = {v: k for k, v in training_generator.class_indices.items()}\n",
    "\n",
    "print(class_labels)\n",
    "\n",
    "for file in os.listdir(test_data_dir):\n",
    "    image_path = os.path.join(test_data_dir, file)\n",
    "    img = mpimg.imread(image_path)\n",
    "    img = resize(img,(IMAGE_SIZE,IMAGE_SIZE)) \n",
    "    img = np.expand_dims(img,axis=0) \n",
    "    prediction = model.predict_classes(img)\n",
    "    img2 = mpimg.imread(image_path) \n",
    "    plt.imshow(img2)\n",
    "    if prediction[0]==0:\n",
    "        plt.title(\"Cheetah\")\n",
    "    elif prediction[0]==1:\n",
    "         plt.title('Jaguar')\n",
    "    elif prediction[0]==2:\n",
    "         plt.title('Leopard')\n",
    "    elif prediction[0]==3:\n",
    "         plt.title('Ocelot')\n",
    "    plt.show()"
   ]
  }
 ],
 "metadata": {
  "accelerator": "GPU",
  "colab": {
   "collapsed_sections": [],
   "name": "Application_Keras.ipynb",
   "provenance": []
  },
  "kernelspec": {
   "display_name": "Python 3",
   "language": "python",
   "name": "python3"
  },
  "language_info": {
   "codemirror_mode": {
    "name": "ipython",
    "version": 3
   },
   "file_extension": ".py",
   "mimetype": "text/x-python",
   "name": "python",
   "nbconvert_exporter": "python",
   "pygments_lexer": "ipython3",
   "version": "3.7.6"
  }
 },
 "nbformat": 4,
 "nbformat_minor": 1
}
